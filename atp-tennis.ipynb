{
 "cells": [
  {
   "cell_type": "markdown",
   "id": "207effed",
   "metadata": {
    "papermill": {
     "duration": 0.007365,
     "end_time": "2023-06-22T10:26:50.095480",
     "exception": false,
     "start_time": "2023-06-22T10:26:50.088115",
     "status": "completed"
    },
    "tags": []
   },
   "source": [
    "![](https://seeklogo.com/images/A/ATP-logo-BB517B1AC0-seeklogo.com.png)"
   ]
  },
  {
   "cell_type": "markdown",
   "id": "1887f114",
   "metadata": {
    "papermill": {
     "duration": 0.00665,
     "end_time": "2023-06-22T10:26:50.109445",
     "exception": false,
     "start_time": "2023-06-22T10:26:50.102795",
     "status": "completed"
    },
    "tags": []
   },
   "source": [
    "### <span style=\"color:darkgreen\">For this work, I used my [WTA notebook](https://www.kaggle.com/code/ilya2raev/wta-tennis) as a basis. This time it was much more entertaining, because we have less missing values and better formatted data.</span>\n",
    "\n",
    "### <span style=\"color:darkgreen\">Make an upvote if you like it!</span>"
   ]
  },
  {
   "cell_type": "code",
   "execution_count": 1,
   "id": "65544998",
   "metadata": {
    "_cell_guid": "b1076dfc-b9ad-4769-8c92-a6c4dae69d19",
    "_uuid": "8f2839f25d086af736a60e9eeb907d3b93b6e0e5",
    "execution": {
     "iopub.execute_input": "2023-06-22T10:26:50.126018Z",
     "iopub.status.busy": "2023-06-22T10:26:50.125121Z",
     "iopub.status.idle": "2023-06-22T10:26:51.811995Z",
     "shell.execute_reply": "2023-06-22T10:26:51.810582Z"
    },
    "papermill": {
     "duration": 1.698367,
     "end_time": "2023-06-22T10:26:51.814814",
     "exception": false,
     "start_time": "2023-06-22T10:26:50.116447",
     "status": "completed"
    },
    "tags": []
   },
   "outputs": [
    {
     "name": "stdout",
     "output_type": "stream",
     "text": [
      "CPU times: user 911 ms, sys: 372 ms, total: 1.28 s\n",
      "Wall time: 1.67 s\n"
     ]
    }
   ],
   "source": [
    "%%time\n",
    "\n",
    "import pandas as pd\n",
    "import numpy as np\n",
    "import matplotlib.pyplot as plt\n",
    "import seaborn as sns\n",
    "from colorama import Fore, Style\n",
    "import warnings\n",
    "\n",
    "warnings.filterwarnings('ignore')\n",
    "def colorize(text:str, color=Fore.GREEN, style=Style.BRIGHT):\n",
    "    print(style + color + text + Style.RESET_ALL)"
   ]
  },
  {
   "cell_type": "code",
   "execution_count": 2,
   "id": "56f0a4bd",
   "metadata": {
    "execution": {
     "iopub.execute_input": "2023-06-22T10:26:51.833425Z",
     "iopub.status.busy": "2023-06-22T10:26:51.832965Z",
     "iopub.status.idle": "2023-06-22T10:26:52.118376Z",
     "shell.execute_reply": "2023-06-22T10:26:52.117264Z"
    },
    "papermill": {
     "duration": 0.296553,
     "end_time": "2023-06-22T10:26:52.120552",
     "exception": false,
     "start_time": "2023-06-22T10:26:51.823999",
     "status": "completed"
    },
    "tags": []
   },
   "outputs": [
    {
     "name": "stdout",
     "output_type": "stream",
     "text": [
      "CPU times: user 162 ms, sys: 48.4 ms, total: 211 ms\n",
      "Wall time: 280 ms\n"
     ]
    }
   ],
   "source": [
    "%%time\n",
    "df = pd.read_csv('/kaggle/input/atp-tennis-2000-2023daily-pull/atp_tennis.csv')"
   ]
  },
  {
   "cell_type": "code",
   "execution_count": 3,
   "id": "b8ef3287",
   "metadata": {
    "execution": {
     "iopub.execute_input": "2023-06-22T10:26:52.136991Z",
     "iopub.status.busy": "2023-06-22T10:26:52.136221Z",
     "iopub.status.idle": "2023-06-22T10:26:52.159325Z",
     "shell.execute_reply": "2023-06-22T10:26:52.158180Z"
    },
    "papermill": {
     "duration": 0.034019,
     "end_time": "2023-06-22T10:26:52.161751",
     "exception": false,
     "start_time": "2023-06-22T10:26:52.127732",
     "status": "completed"
    },
    "tags": []
   },
   "outputs": [
    {
     "name": "stdout",
     "output_type": "stream",
     "text": [
      "\u001b[1m\u001b[32m6-3 6-4        0.018301\n",
      "3-6 4-6        0.017853\n",
      "4-6 4-6        0.017671\n",
      "6-4 6-4        0.017140\n",
      "3-6 2-6        0.012018\n",
      "6-3 6-2        0.011952\n",
      "6-7 4-6        0.011538\n",
      "4-6 3-6        0.011322\n",
      "6-4 6-2        0.011140\n",
      "4-6 2-6        0.011057\n",
      "6-4 6-3        0.010775\n",
      "3-6 3-6        0.010626\n",
      "6-3 6-3        0.010543\n",
      "7-6 6-4        0.010477\n",
      "7-6 6-3        0.010344\n",
      "6-7 3-6        0.009979\n",
      "6-2 6-4        0.009416\n",
      "4-6 6-7        0.009349\n",
      "6-4 7-6        0.009217\n",
      "6-3 7-6        0.008918\n",
      "Name: Score, dtype: float64\u001b[0m\n"
     ]
    }
   ],
   "source": [
    "colorize(f'{df.Score.value_counts(normalize=True).head(20)}')"
   ]
  },
  {
   "cell_type": "code",
   "execution_count": 4,
   "id": "6352ae53",
   "metadata": {
    "execution": {
     "iopub.execute_input": "2023-06-22T10:26:52.178683Z",
     "iopub.status.busy": "2023-06-22T10:26:52.178298Z",
     "iopub.status.idle": "2023-06-22T10:26:52.293099Z",
     "shell.execute_reply": "2023-06-22T10:26:52.291727Z"
    },
    "papermill": {
     "duration": 0.126462,
     "end_time": "2023-06-22T10:26:52.295791",
     "exception": false,
     "start_time": "2023-06-22T10:26:52.169329",
     "status": "completed"
    },
    "tags": []
   },
   "outputs": [
    {
     "name": "stdout",
     "output_type": "stream",
     "text": [
      "<class 'pandas.core.frame.DataFrame'>\n",
      "RangeIndex: 60325 entries, 0 to 60324\n",
      "Data columns (total 17 columns):\n",
      " #   Column      Non-Null Count  Dtype  \n",
      "---  ------      --------------  -----  \n",
      " 0   Tournament  60325 non-null  object \n",
      " 1   Date        60325 non-null  object \n",
      " 2   Series      60325 non-null  object \n",
      " 3   Court       60325 non-null  object \n",
      " 4   Surface     60325 non-null  object \n",
      " 5   Round       60325 non-null  object \n",
      " 6   Best of     60325 non-null  int64  \n",
      " 7   Player_1    60325 non-null  object \n",
      " 8   Player_2    60325 non-null  object \n",
      " 9   Winner      60325 non-null  object \n",
      " 10  Rank_1      60325 non-null  int64  \n",
      " 11  Rank_2      60325 non-null  int64  \n",
      " 12  Pts_1       60325 non-null  int64  \n",
      " 13  Pts_2       60325 non-null  int64  \n",
      " 14  Odd_1       60325 non-null  float64\n",
      " 15  Odd_2       60325 non-null  float64\n",
      " 16  Score       60325 non-null  object \n",
      "dtypes: float64(2), int64(5), object(10)\n",
      "memory usage: 7.8+ MB\n",
      "CPU times: user 102 ms, sys: 0 ns, total: 102 ms\n",
      "Wall time: 109 ms\n"
     ]
    }
   ],
   "source": [
    "%%time\n",
    "df.info()"
   ]
  },
  {
   "cell_type": "markdown",
   "id": "79d3e460",
   "metadata": {
    "papermill": {
     "duration": 0.007418,
     "end_time": "2023-06-22T10:26:52.311020",
     "exception": false,
     "start_time": "2023-06-22T10:26:52.303602",
     "status": "completed"
    },
    "tags": []
   },
   "source": [
    "### <span style=\"color:darkgreen\">At first glance, it looks like data doesn't have any missing values. Dtypes also look well formatted (unlike [here](https://www.kaggle.com/code/ilya2raev/wta-tennis))</span>."
   ]
  },
  {
   "cell_type": "code",
   "execution_count": 5,
   "id": "f1b830e5",
   "metadata": {
    "execution": {
     "iopub.execute_input": "2023-06-22T10:26:52.329751Z",
     "iopub.status.busy": "2023-06-22T10:26:52.329097Z",
     "iopub.status.idle": "2023-06-22T10:26:52.395386Z",
     "shell.execute_reply": "2023-06-22T10:26:52.394121Z"
    },
    "papermill": {
     "duration": 0.078449,
     "end_time": "2023-06-22T10:26:52.397507",
     "exception": false,
     "start_time": "2023-06-22T10:26:52.319058",
     "status": "completed"
    },
    "tags": []
   },
   "outputs": [
    {
     "name": "stdout",
     "output_type": "stream",
     "text": [
      "CPU times: user 31.1 ms, sys: 2.02 ms, total: 33.1 ms\n",
      "Wall time: 37.8 ms\n"
     ]
    },
    {
     "data": {
      "text/html": [
       "<div>\n",
       "<style scoped>\n",
       "    .dataframe tbody tr th:only-of-type {\n",
       "        vertical-align: middle;\n",
       "    }\n",
       "\n",
       "    .dataframe tbody tr th {\n",
       "        vertical-align: top;\n",
       "    }\n",
       "\n",
       "    .dataframe thead th {\n",
       "        text-align: right;\n",
       "    }\n",
       "</style>\n",
       "<table border=\"1\" class=\"dataframe\">\n",
       "  <thead>\n",
       "    <tr style=\"text-align: right;\">\n",
       "      <th></th>\n",
       "      <th>Best of</th>\n",
       "      <th>Rank_1</th>\n",
       "      <th>Rank_2</th>\n",
       "      <th>Pts_1</th>\n",
       "      <th>Pts_2</th>\n",
       "      <th>Odd_1</th>\n",
       "      <th>Odd_2</th>\n",
       "    </tr>\n",
       "  </thead>\n",
       "  <tbody>\n",
       "    <tr>\n",
       "      <th>count</th>\n",
       "      <td>60325.000000</td>\n",
       "      <td>60325.000000</td>\n",
       "      <td>60325.000000</td>\n",
       "      <td>60325.000000</td>\n",
       "      <td>60325.000000</td>\n",
       "      <td>60325.000000</td>\n",
       "      <td>60325.000000</td>\n",
       "    </tr>\n",
       "    <tr>\n",
       "      <th>mean</th>\n",
       "      <td>3.377257</td>\n",
       "      <td>75.919121</td>\n",
       "      <td>75.652864</td>\n",
       "      <td>1083.273651</td>\n",
       "      <td>1090.667584</td>\n",
       "      <td>2.397549</td>\n",
       "      <td>2.388558</td>\n",
       "    </tr>\n",
       "    <tr>\n",
       "      <th>std</th>\n",
       "      <td>0.782433</td>\n",
       "      <td>100.767449</td>\n",
       "      <td>101.725824</td>\n",
       "      <td>1704.843703</td>\n",
       "      <td>1730.695859</td>\n",
       "      <td>2.680449</td>\n",
       "      <td>2.629334</td>\n",
       "    </tr>\n",
       "    <tr>\n",
       "      <th>min</th>\n",
       "      <td>3.000000</td>\n",
       "      <td>-1.000000</td>\n",
       "      <td>-1.000000</td>\n",
       "      <td>-1.000000</td>\n",
       "      <td>-1.000000</td>\n",
       "      <td>-1.000000</td>\n",
       "      <td>-1.000000</td>\n",
       "    </tr>\n",
       "    <tr>\n",
       "      <th>25%</th>\n",
       "      <td>3.000000</td>\n",
       "      <td>25.000000</td>\n",
       "      <td>24.000000</td>\n",
       "      <td>-1.000000</td>\n",
       "      <td>-1.000000</td>\n",
       "      <td>1.330000</td>\n",
       "      <td>1.330000</td>\n",
       "    </tr>\n",
       "    <tr>\n",
       "      <th>50%</th>\n",
       "      <td>3.000000</td>\n",
       "      <td>54.000000</td>\n",
       "      <td>54.000000</td>\n",
       "      <td>664.000000</td>\n",
       "      <td>665.000000</td>\n",
       "      <td>1.726750</td>\n",
       "      <td>1.730000</td>\n",
       "    </tr>\n",
       "    <tr>\n",
       "      <th>75%</th>\n",
       "      <td>3.000000</td>\n",
       "      <td>92.000000</td>\n",
       "      <td>92.000000</td>\n",
       "      <td>1195.000000</td>\n",
       "      <td>1205.000000</td>\n",
       "      <td>2.750000</td>\n",
       "      <td>2.750000</td>\n",
       "    </tr>\n",
       "    <tr>\n",
       "      <th>max</th>\n",
       "      <td>5.000000</td>\n",
       "      <td>3390.000000</td>\n",
       "      <td>4915.000000</td>\n",
       "      <td>16950.000000</td>\n",
       "      <td>16950.000000</td>\n",
       "      <td>67.000000</td>\n",
       "      <td>51.000000</td>\n",
       "    </tr>\n",
       "  </tbody>\n",
       "</table>\n",
       "</div>"
      ],
      "text/plain": [
       "            Best of        Rank_1        Rank_2         Pts_1         Pts_2  \\\n",
       "count  60325.000000  60325.000000  60325.000000  60325.000000  60325.000000   \n",
       "mean       3.377257     75.919121     75.652864   1083.273651   1090.667584   \n",
       "std        0.782433    100.767449    101.725824   1704.843703   1730.695859   \n",
       "min        3.000000     -1.000000     -1.000000     -1.000000     -1.000000   \n",
       "25%        3.000000     25.000000     24.000000     -1.000000     -1.000000   \n",
       "50%        3.000000     54.000000     54.000000    664.000000    665.000000   \n",
       "75%        3.000000     92.000000     92.000000   1195.000000   1205.000000   \n",
       "max        5.000000   3390.000000   4915.000000  16950.000000  16950.000000   \n",
       "\n",
       "              Odd_1         Odd_2  \n",
       "count  60325.000000  60325.000000  \n",
       "mean       2.397549      2.388558  \n",
       "std        2.680449      2.629334  \n",
       "min       -1.000000     -1.000000  \n",
       "25%        1.330000      1.330000  \n",
       "50%        1.726750      1.730000  \n",
       "75%        2.750000      2.750000  \n",
       "max       67.000000     51.000000  "
      ]
     },
     "execution_count": 5,
     "metadata": {},
     "output_type": "execute_result"
    }
   ],
   "source": [
    "%%time\n",
    "df.describe()"
   ]
  },
  {
   "cell_type": "code",
   "execution_count": 6,
   "id": "c2d621c8",
   "metadata": {
    "execution": {
     "iopub.execute_input": "2023-06-22T10:26:52.414782Z",
     "iopub.status.busy": "2023-06-22T10:26:52.414372Z",
     "iopub.status.idle": "2023-06-22T10:26:52.930393Z",
     "shell.execute_reply": "2023-06-22T10:26:52.929260Z"
    },
    "papermill": {
     "duration": 0.527704,
     "end_time": "2023-06-22T10:26:52.933024",
     "exception": false,
     "start_time": "2023-06-22T10:26:52.405320",
     "status": "completed"
    },
    "tags": []
   },
   "outputs": [
    {
     "name": "stdout",
     "output_type": "stream",
     "text": [
      "\u001b[1m\u001b[32mOdds higher than 2.0 win percentage: 24.93 %\u001b[0m\n",
      "\u001b[1m\u001b[32mOdds higher than 3.0 win percentage: 7.28 %\u001b[0m\n",
      "\u001b[1m\u001b[32mOdds higher than 4.0 win percentage: 2.93 %\u001b[0m\n",
      "\u001b[1m\u001b[32mOdds higher than 5.0 win percentage: 1.36 %\u001b[0m\n",
      "\u001b[1m\u001b[32mOdds higher than 6.0 win percentage: 0.76 %\u001b[0m\n",
      "\u001b[1m\u001b[32mOdds higher than 7.0 win percentage: 0.43 %\u001b[0m\n",
      "\u001b[1m\u001b[32mOdds higher than 8.0 win percentage: 0.25 %\u001b[0m\n",
      "\u001b[1m\u001b[32mOdds higher than 9.0 win percentage: 0.19 %\u001b[0m\n",
      "\u001b[1m\u001b[32mOdds higher than 10.0 win percentage: 0.15 %\u001b[0m\n"
     ]
    },
    {
     "data": {
      "image/png": "[encoded data removed]",
      "text/plain": [
       "<Figure size 500x400 with 1 Axes>"
      ]
     },
     "metadata": {},
     "output_type": "display_data"
    },
    {
     "name": "stdout",
     "output_type": "stream",
     "text": [
      "CPU times: user 605 ms, sys: 133 ms, total: 739 ms\n",
      "Wall time: 508 ms\n"
     ]
    }
   ],
   "source": [
    "%%time\n",
    "# Let's find out how many risky odds actually win\n",
    "df_odds = df.query('Odd_1 != -1.0 and Odd_2 != -1.0')\n",
    "coefs = np.arange(2.0, 11.0)\n",
    "odds = []\n",
    "for coef in coefs:\n",
    "    value = (len(df_odds.query(f'Player_2 == Winner and Odd_2 > {coef}')) + len(df_odds.query(f'Player_1 == Winner and Odd_1 > {coef}'))) / len(df_odds) * 100\n",
    "    colorize(f\"Odds higher than {coef} win percentage: {'%.2f' % (value)} %\")\n",
    "    odds.append(value)\n",
    "    \n",
    "plt.subplots(figsize=(5,4))\n",
    "sns.set_color_codes(\"muted\")\n",
    "sns.barplot(y=odds, x=coefs, color='g')\n",
    "sns.lineplot(y=odds, x=coefs, color='r')\n",
    "plt.title('Risky Odds Win Percentage')\n",
    "plt.ylabel('%')\n",
    "plt.xlabel('Odd Higher Than')\n",
    "plt.show()  "
   ]
  },
  {
   "cell_type": "markdown",
   "id": "35fe2a9d",
   "metadata": {
    "papermill": {
     "duration": 0.008297,
     "end_time": "2023-06-22T10:26:52.949901",
     "exception": false,
     "start_time": "2023-06-22T10:26:52.941604",
     "status": "completed"
    },
    "tags": []
   },
   "source": [
    "### <span style=\"color:darkgreen\">Inference: don't bet on risky odds in tennis unless you are 100% confident</span>."
   ]
  },
  {
   "cell_type": "markdown",
   "id": "89d98079",
   "metadata": {
    "papermill": {
     "duration": 0.008128,
     "end_time": "2023-06-22T10:26:52.966500",
     "exception": false,
     "start_time": "2023-06-22T10:26:52.958372",
     "status": "completed"
    },
    "tags": []
   },
   "source": [
    "### <span style=\"color:darkgreen\">But what about total number of sets?</span>"
   ]
  },
  {
   "cell_type": "code",
   "execution_count": 7,
   "id": "93550b59",
   "metadata": {
    "execution": {
     "iopub.execute_input": "2023-06-22T10:26:52.985535Z",
     "iopub.status.busy": "2023-06-22T10:26:52.985162Z",
     "iopub.status.idle": "2023-06-22T10:26:53.061511Z",
     "shell.execute_reply": "2023-06-22T10:26:53.060047Z"
    },
    "papermill": {
     "duration": 0.089036,
     "end_time": "2023-06-22T10:26:53.064135",
     "exception": false,
     "start_time": "2023-06-22T10:26:52.975099",
     "status": "completed"
    },
    "tags": []
   },
   "outputs": [
    {
     "name": "stdout",
     "output_type": "stream",
     "text": [
      "CPU times: user 58 ms, sys: 11.9 ms, total: 69.9 ms\n",
      "Wall time: 69.5 ms\n"
     ]
    }
   ],
   "source": [
    "%%time\n",
    "df_bo3 = df.loc[df[\"Best of\"] == 3]\n",
    "df_bo3_2set = df_bo3.loc[df_bo3.Score.str.len() == 11]\n",
    "df_bo3_3set = df_bo3.loc[df_bo3.Score.str.len() == 14]\n",
    "df_bo3 = pd.concat([df_bo3_2set, df_bo3_3set], axis=0)"
   ]
  },
  {
   "cell_type": "code",
   "execution_count": 8,
   "id": "a89e2934",
   "metadata": {
    "execution": {
     "iopub.execute_input": "2023-06-22T10:26:53.086124Z",
     "iopub.status.busy": "2023-06-22T10:26:53.083776Z",
     "iopub.status.idle": "2023-06-22T10:26:53.260868Z",
     "shell.execute_reply": "2023-06-22T10:26:53.259182Z"
    },
    "papermill": {
     "duration": 0.191938,
     "end_time": "2023-06-22T10:26:53.265115",
     "exception": false,
     "start_time": "2023-06-22T10:26:53.073177",
     "status": "completed"
    },
    "tags": []
   },
   "outputs": [
    {
     "data": {
      "image/png": "[encoded data removed]",
      "text/plain": [
       "<Figure size 640x480 with 1 Axes>"
      ]
     },
     "metadata": {},
     "output_type": "display_data"
    },
    {
     "name": "stdout",
     "output_type": "stream",
     "text": [
      "CPU times: user 203 ms, sys: 59.6 ms, total: 263 ms\n",
      "Wall time: 167 ms\n"
     ]
    }
   ],
   "source": [
    "%%time\n",
    "fig, ax = plt.subplots()\n",
    "ax.pie(df_bo3.Score.str.len().value_counts(normalize=True),\n",
    "       explode=(0.03, 0.03),\n",
    "       labels=['2 sets', '3 sets'],\n",
    "       autopct='%1.1f%%',\n",
    "       colors=['gold', 'tomato'],\n",
    "       shadow=True)\n",
    "plt.title('Total sets (Best of 3 only)')\n",
    "plt.show()"
   ]
  },
  {
   "cell_type": "code",
   "execution_count": 9,
   "id": "0b3d5d49",
   "metadata": {
    "execution": {
     "iopub.execute_input": "2023-06-22T10:26:53.299039Z",
     "iopub.status.busy": "2023-06-22T10:26:53.298170Z",
     "iopub.status.idle": "2023-06-22T10:26:53.507854Z",
     "shell.execute_reply": "2023-06-22T10:26:53.505509Z"
    },
    "papermill": {
     "duration": 0.23188,
     "end_time": "2023-06-22T10:26:53.511667",
     "exception": false,
     "start_time": "2023-06-22T10:26:53.279787",
     "status": "completed"
    },
    "tags": []
   },
   "outputs": [
    {
     "data": {
      "image/png": "[encoded data removed]",
      "text/plain": [
       "<Figure size 640x480 with 1 Axes>"
      ]
     },
     "metadata": {},
     "output_type": "display_data"
    },
    {
     "name": "stdout",
     "output_type": "stream",
     "text": [
      "CPU times: user 269 ms, sys: 93.5 ms, total: 362 ms\n",
      "Wall time: 195 ms\n"
     ]
    }
   ],
   "source": [
    "%%time\n",
    "fix, ax = plt.subplots()\n",
    "ax.pie(df.Surface.value_counts(normalize=True),\n",
    "       explode=(0.03, 0.03, 0.03, 0.03),\n",
    "       labels=df.Surface.unique(), \n",
    "       autopct='%1.1f%%',\n",
    "       colors=['steelblue', 'peru', 'yellowgreen', 'red'],\n",
    "       shadow=True\n",
    "      )\n",
    "plt.title('Overall Surface Percentage')\n",
    "plt.show()"
   ]
  },
  {
   "cell_type": "code",
   "execution_count": 10,
   "id": "3c2f69b8",
   "metadata": {
    "execution": {
     "iopub.execute_input": "2023-06-22T10:26:53.547914Z",
     "iopub.status.busy": "2023-06-22T10:26:53.546192Z",
     "iopub.status.idle": "2023-06-22T10:26:53.721150Z",
     "shell.execute_reply": "2023-06-22T10:26:53.719911Z"
    },
    "papermill": {
     "duration": 0.197709,
     "end_time": "2023-06-22T10:26:53.725291",
     "exception": false,
     "start_time": "2023-06-22T10:26:53.527582",
     "status": "completed"
    },
    "tags": []
   },
   "outputs": [
    {
     "data": {
      "image/png": "[encoded data removed]",
      "text/plain": [
       "<Figure size 640x480 with 1 Axes>"
      ]
     },
     "metadata": {},
     "output_type": "display_data"
    },
    {
     "name": "stdout",
     "output_type": "stream",
     "text": [
      "CPU times: user 220 ms, sys: 57.6 ms, total: 278 ms\n",
      "Wall time: 165 ms\n"
     ]
    }
   ],
   "source": [
    "%%time\n",
    "fix, ax = plt.subplots()\n",
    "ax.pie(df.Court.value_counts(normalize=True),\n",
    "       explode=(0, 0.12),\n",
    "       labels=df.Court.unique(), \n",
    "       autopct='%1.1f%%',\n",
    "       colors=['orange', 'turquoise'],\n",
    "       shadow=True\n",
    "      )\n",
    "plt.title('Outdoor/Indoor')\n",
    "plt.show()"
   ]
  },
  {
   "cell_type": "code",
   "execution_count": 11,
   "id": "47fbdad2",
   "metadata": {
    "execution": {
     "iopub.execute_input": "2023-06-22T10:26:53.761166Z",
     "iopub.status.busy": "2023-06-22T10:26:53.760224Z",
     "iopub.status.idle": "2023-06-22T10:26:53.771777Z",
     "shell.execute_reply": "2023-06-22T10:26:53.769837Z"
    },
    "papermill": {
     "duration": 0.033378,
     "end_time": "2023-06-22T10:26:53.775151",
     "exception": false,
     "start_time": "2023-06-22T10:26:53.741773",
     "status": "completed"
    },
    "tags": []
   },
   "outputs": [
    {
     "name": "stdout",
     "output_type": "stream",
     "text": [
      "\u001b[1m\u001b[32m3    48946\n",
      "5    11379\n",
      "Name: Best of, dtype: int64\u001b[0m\n"
     ]
    }
   ],
   "source": [
    "colorize(f\"{df['Best of'].value_counts()}\")"
   ]
  },
  {
   "cell_type": "markdown",
   "id": "94efa69d",
   "metadata": {
    "papermill": {
     "duration": 0.010344,
     "end_time": "2023-06-22T10:26:53.801503",
     "exception": false,
     "start_time": "2023-06-22T10:26:53.791159",
     "status": "completed"
    },
    "tags": []
   },
   "source": [
    "### <span style=\"color:darkgreen\">Technically, it should be best of 2 and best of 3 for Grand Slams</span>.\n"
   ]
  },
  {
   "cell_type": "code",
   "execution_count": 12,
   "id": "2e24bfb6",
   "metadata": {
    "execution": {
     "iopub.execute_input": "2023-06-22T10:26:53.824217Z",
     "iopub.status.busy": "2023-06-22T10:26:53.823144Z",
     "iopub.status.idle": "2023-06-22T10:26:54.006721Z",
     "shell.execute_reply": "2023-06-22T10:26:54.005475Z"
    },
    "papermill": {
     "duration": 0.198536,
     "end_time": "2023-06-22T10:26:54.010412",
     "exception": false,
     "start_time": "2023-06-22T10:26:53.811876",
     "status": "completed"
    },
    "tags": []
   },
   "outputs": [
    {
     "data": {
      "image/png": "[encoded data removed]",
      "text/plain": [
       "<Figure size 640x480 with 1 Axes>"
      ]
     },
     "metadata": {},
     "output_type": "display_data"
    },
    {
     "name": "stdout",
     "output_type": "stream",
     "text": [
      "CPU times: user 224 ms, sys: 75.7 ms, total: 300 ms\n",
      "Wall time: 175 ms\n"
     ]
    }
   ],
   "source": [
    "%%time\n",
    "fix, ax = plt.subplots()\n",
    "ax.pie(df['Best of'].value_counts(normalize=True),\n",
    "       explode=(0, 0.12),\n",
    "       labels=['Best of 2', 'Best of 3 (Grand Slam format)'], \n",
    "       autopct='%1.1f%%',\n",
    "       colors=['silver', 'turquoise'],\n",
    "       shadow=True)\n",
    "plt.title('\"Best of\" percentage')\n",
    "plt.show()"
   ]
  },
  {
   "cell_type": "code",
   "execution_count": 13,
   "id": "898bacb5",
   "metadata": {
    "execution": {
     "iopub.execute_input": "2023-06-22T10:26:54.048066Z",
     "iopub.status.busy": "2023-06-22T10:26:54.047453Z",
     "iopub.status.idle": "2023-06-22T10:26:54.071769Z",
     "shell.execute_reply": "2023-06-22T10:26:54.070849Z"
    },
    "papermill": {
     "duration": 0.046499,
     "end_time": "2023-06-22T10:26:54.074163",
     "exception": false,
     "start_time": "2023-06-22T10:26:54.027664",
     "status": "completed"
    },
    "tags": []
   },
   "outputs": [
    {
     "data": {
      "text/html": [
       "<div>\n",
       "<style scoped>\n",
       "    .dataframe tbody tr th:only-of-type {\n",
       "        vertical-align: middle;\n",
       "    }\n",
       "\n",
       "    .dataframe tbody tr th {\n",
       "        vertical-align: top;\n",
       "    }\n",
       "\n",
       "    .dataframe thead th {\n",
       "        text-align: right;\n",
       "    }\n",
       "</style>\n",
       "<table border=\"1\" class=\"dataframe\">\n",
       "  <thead>\n",
       "    <tr style=\"text-align: right;\">\n",
       "      <th></th>\n",
       "      <th>Tournament</th>\n",
       "      <th>Date</th>\n",
       "      <th>Series</th>\n",
       "      <th>Court</th>\n",
       "      <th>Surface</th>\n",
       "      <th>Round</th>\n",
       "      <th>Best of</th>\n",
       "      <th>Player_1</th>\n",
       "      <th>Player_2</th>\n",
       "      <th>Winner</th>\n",
       "      <th>Rank_1</th>\n",
       "      <th>Rank_2</th>\n",
       "      <th>Pts_1</th>\n",
       "      <th>Pts_2</th>\n",
       "      <th>Odd_1</th>\n",
       "      <th>Odd_2</th>\n",
       "      <th>Score</th>\n",
       "    </tr>\n",
       "  </thead>\n",
       "  <tbody>\n",
       "    <tr>\n",
       "      <th>0</th>\n",
       "      <td>Australian Hardcourt Championships</td>\n",
       "      <td>2000-01-03</td>\n",
       "      <td>International</td>\n",
       "      <td>Outdoor</td>\n",
       "      <td>Hard</td>\n",
       "      <td>1st Round</td>\n",
       "      <td>3</td>\n",
       "      <td>Dosedel S.</td>\n",
       "      <td>Ljubicic I.</td>\n",
       "      <td>Dosedel S.</td>\n",
       "      <td>63</td>\n",
       "      <td>77</td>\n",
       "      <td>-1</td>\n",
       "      <td>-1</td>\n",
       "      <td>-1.0</td>\n",
       "      <td>-1.0</td>\n",
       "      <td>6-4 6-2</td>\n",
       "    </tr>\n",
       "    <tr>\n",
       "      <th>1</th>\n",
       "      <td>Australian Hardcourt Championships</td>\n",
       "      <td>2000-01-03</td>\n",
       "      <td>International</td>\n",
       "      <td>Outdoor</td>\n",
       "      <td>Hard</td>\n",
       "      <td>1st Round</td>\n",
       "      <td>3</td>\n",
       "      <td>Clement A.</td>\n",
       "      <td>Enqvist T.</td>\n",
       "      <td>Enqvist T.</td>\n",
       "      <td>56</td>\n",
       "      <td>5</td>\n",
       "      <td>-1</td>\n",
       "      <td>-1</td>\n",
       "      <td>-1.0</td>\n",
       "      <td>-1.0</td>\n",
       "      <td>3-6 3-6</td>\n",
       "    </tr>\n",
       "    <tr>\n",
       "      <th>2</th>\n",
       "      <td>Australian Hardcourt Championships</td>\n",
       "      <td>2000-01-03</td>\n",
       "      <td>International</td>\n",
       "      <td>Outdoor</td>\n",
       "      <td>Hard</td>\n",
       "      <td>1st Round</td>\n",
       "      <td>3</td>\n",
       "      <td>Escude N.</td>\n",
       "      <td>Baccanello P.</td>\n",
       "      <td>Escude N.</td>\n",
       "      <td>40</td>\n",
       "      <td>655</td>\n",
       "      <td>-1</td>\n",
       "      <td>-1</td>\n",
       "      <td>-1.0</td>\n",
       "      <td>-1.0</td>\n",
       "      <td>6-7 7-5 6-3</td>\n",
       "    </tr>\n",
       "    <tr>\n",
       "      <th>3</th>\n",
       "      <td>Australian Hardcourt Championships</td>\n",
       "      <td>2000-01-03</td>\n",
       "      <td>International</td>\n",
       "      <td>Outdoor</td>\n",
       "      <td>Hard</td>\n",
       "      <td>1st Round</td>\n",
       "      <td>3</td>\n",
       "      <td>Knippschild J.</td>\n",
       "      <td>Federer R.</td>\n",
       "      <td>Federer R.</td>\n",
       "      <td>87</td>\n",
       "      <td>65</td>\n",
       "      <td>-1</td>\n",
       "      <td>-1</td>\n",
       "      <td>-1.0</td>\n",
       "      <td>-1.0</td>\n",
       "      <td>1-6 4-6</td>\n",
       "    </tr>\n",
       "    <tr>\n",
       "      <th>4</th>\n",
       "      <td>Australian Hardcourt Championships</td>\n",
       "      <td>2000-01-03</td>\n",
       "      <td>International</td>\n",
       "      <td>Outdoor</td>\n",
       "      <td>Hard</td>\n",
       "      <td>1st Round</td>\n",
       "      <td>3</td>\n",
       "      <td>Fromberg R.</td>\n",
       "      <td>Woodbridge T.</td>\n",
       "      <td>Fromberg R.</td>\n",
       "      <td>81</td>\n",
       "      <td>198</td>\n",
       "      <td>-1</td>\n",
       "      <td>-1</td>\n",
       "      <td>-1.0</td>\n",
       "      <td>-1.0</td>\n",
       "      <td>7-6 5-7 6-4</td>\n",
       "    </tr>\n",
       "  </tbody>\n",
       "</table>\n",
       "</div>"
      ],
      "text/plain": [
       "                           Tournament        Date         Series    Court  \\\n",
       "0  Australian Hardcourt Championships  2000-01-03  International  Outdoor   \n",
       "1  Australian Hardcourt Championships  2000-01-03  International  Outdoor   \n",
       "2  Australian Hardcourt Championships  2000-01-03  International  Outdoor   \n",
       "3  Australian Hardcourt Championships  2000-01-03  International  Outdoor   \n",
       "4  Australian Hardcourt Championships  2000-01-03  International  Outdoor   \n",
       "\n",
       "  Surface      Round  Best of        Player_1       Player_2       Winner  \\\n",
       "0    Hard  1st Round        3      Dosedel S.    Ljubicic I.   Dosedel S.   \n",
       "1    Hard  1st Round        3      Clement A.     Enqvist T.   Enqvist T.   \n",
       "2    Hard  1st Round        3       Escude N.  Baccanello P.    Escude N.   \n",
       "3    Hard  1st Round        3  Knippschild J.     Federer R.   Federer R.   \n",
       "4    Hard  1st Round        3     Fromberg R.  Woodbridge T.  Fromberg R.   \n",
       "\n",
       "   Rank_1  Rank_2  Pts_1  Pts_2  Odd_1  Odd_2           Score  \n",
       "0      63      77     -1     -1   -1.0   -1.0     6-4 6-2      \n",
       "1      56       5     -1     -1   -1.0   -1.0     3-6 3-6      \n",
       "2      40     655     -1     -1   -1.0   -1.0  6-7 7-5 6-3     \n",
       "3      87      65     -1     -1   -1.0   -1.0     1-6 4-6      \n",
       "4      81     198     -1     -1   -1.0   -1.0  7-6 5-7 6-4     "
      ]
     },
     "execution_count": 13,
     "metadata": {},
     "output_type": "execute_result"
    }
   ],
   "source": [
    "df.head()"
   ]
  },
  {
   "cell_type": "markdown",
   "id": "a5d94d85",
   "metadata": {
    "papermill": {
     "duration": 0.010886,
     "end_time": "2023-06-22T10:26:54.096204",
     "exception": false,
     "start_time": "2023-06-22T10:26:54.085318",
     "status": "completed"
    },
    "tags": []
   },
   "source": [
    "### <span style=\"color:darkgreen\">Creating a dataframe which is going to contain all Grand Slam winners</span>"
   ]
  },
  {
   "cell_type": "code",
   "execution_count": 14,
   "id": "0d57dab2",
   "metadata": {
    "execution": {
     "iopub.execute_input": "2023-06-22T10:26:54.121054Z",
     "iopub.status.busy": "2023-06-22T10:26:54.120299Z",
     "iopub.status.idle": "2023-06-22T10:26:54.147497Z",
     "shell.execute_reply": "2023-06-22T10:26:54.146247Z"
    },
    "papermill": {
     "duration": 0.042483,
     "end_time": "2023-06-22T10:26:54.149838",
     "exception": false,
     "start_time": "2023-06-22T10:26:54.107355",
     "status": "completed"
    },
    "tags": []
   },
   "outputs": [
    {
     "name": "stdout",
     "output_type": "stream",
     "text": [
      "CPU times: user 14 ms, sys: 169 µs, total: 14.2 ms\n",
      "Wall time: 13.8 ms\n"
     ]
    },
    {
     "data": {
      "text/html": [
       "<div>\n",
       "<style scoped>\n",
       "    .dataframe tbody tr th:only-of-type {\n",
       "        vertical-align: middle;\n",
       "    }\n",
       "\n",
       "    .dataframe tbody tr th {\n",
       "        vertical-align: top;\n",
       "    }\n",
       "\n",
       "    .dataframe thead th {\n",
       "        text-align: right;\n",
       "    }\n",
       "</style>\n",
       "<table border=\"1\" class=\"dataframe\">\n",
       "  <thead>\n",
       "    <tr style=\"text-align: right;\">\n",
       "      <th></th>\n",
       "      <th>Date</th>\n",
       "      <th>Winner</th>\n",
       "    </tr>\n",
       "  </thead>\n",
       "  <tbody>\n",
       "    <tr>\n",
       "      <th>274</th>\n",
       "      <td>2000-01-17</td>\n",
       "      <td>Agassi A.</td>\n",
       "    </tr>\n",
       "    <tr>\n",
       "      <th>3150</th>\n",
       "      <td>2001-01-15</td>\n",
       "      <td>Agassi A.</td>\n",
       "    </tr>\n",
       "    <tr>\n",
       "      <th>6034</th>\n",
       "      <td>2002-01-14</td>\n",
       "      <td>Johansson T.</td>\n",
       "    </tr>\n",
       "    <tr>\n",
       "      <th>8777</th>\n",
       "      <td>2003-01-26</td>\n",
       "      <td>Agassi A.</td>\n",
       "    </tr>\n",
       "    <tr>\n",
       "      <th>11514</th>\n",
       "      <td>2004-01-31</td>\n",
       "      <td>Federer R.</td>\n",
       "    </tr>\n",
       "    <tr>\n",
       "      <th>14298</th>\n",
       "      <td>2005-01-30</td>\n",
       "      <td>Safin M.</td>\n",
       "    </tr>\n",
       "    <tr>\n",
       "      <th>17119</th>\n",
       "      <td>2006-01-29</td>\n",
       "      <td>Federer R.</td>\n",
       "    </tr>\n",
       "    <tr>\n",
       "      <th>19908</th>\n",
       "      <td>2007-01-28</td>\n",
       "      <td>Federer R.</td>\n",
       "    </tr>\n",
       "    <tr>\n",
       "      <th>22609</th>\n",
       "      <td>2008-01-27</td>\n",
       "      <td>Djokovic N.</td>\n",
       "    </tr>\n",
       "    <tr>\n",
       "      <th>25180</th>\n",
       "      <td>2009-02-01</td>\n",
       "      <td>Nadal R.</td>\n",
       "    </tr>\n",
       "    <tr>\n",
       "      <th>27785</th>\n",
       "      <td>2010-01-31</td>\n",
       "      <td>Federer R.</td>\n",
       "    </tr>\n",
       "    <tr>\n",
       "      <th>30354</th>\n",
       "      <td>2011-01-30</td>\n",
       "      <td>Djokovic N.</td>\n",
       "    </tr>\n",
       "    <tr>\n",
       "      <th>32905</th>\n",
       "      <td>2012-01-29</td>\n",
       "      <td>Djokovic N.</td>\n",
       "    </tr>\n",
       "    <tr>\n",
       "      <th>35401</th>\n",
       "      <td>2013-01-27</td>\n",
       "      <td>Djokovic N.</td>\n",
       "    </tr>\n",
       "    <tr>\n",
       "      <th>37907</th>\n",
       "      <td>2014-01-26</td>\n",
       "      <td>Wawrinka S.</td>\n",
       "    </tr>\n",
       "    <tr>\n",
       "      <th>40404</th>\n",
       "      <td>2015-02-01</td>\n",
       "      <td>Djokovic N.</td>\n",
       "    </tr>\n",
       "    <tr>\n",
       "      <th>42917</th>\n",
       "      <td>2016-01-31</td>\n",
       "      <td>Djokovic N.</td>\n",
       "    </tr>\n",
       "    <tr>\n",
       "      <th>45437</th>\n",
       "      <td>2017-01-29</td>\n",
       "      <td>Federer R.</td>\n",
       "    </tr>\n",
       "    <tr>\n",
       "      <th>47965</th>\n",
       "      <td>2018-01-28</td>\n",
       "      <td>Federer R.</td>\n",
       "    </tr>\n",
       "    <tr>\n",
       "      <th>50512</th>\n",
       "      <td>2019-01-27</td>\n",
       "      <td>Djokovic N.</td>\n",
       "    </tr>\n",
       "    <tr>\n",
       "      <th>52979</th>\n",
       "      <td>2020-02-02</td>\n",
       "      <td>Djokovic N.</td>\n",
       "    </tr>\n",
       "    <tr>\n",
       "      <th>54287</th>\n",
       "      <td>2021-02-21</td>\n",
       "      <td>Djokovic N.</td>\n",
       "    </tr>\n",
       "    <tr>\n",
       "      <th>56637</th>\n",
       "      <td>2022-01-30</td>\n",
       "      <td>Nadal R.</td>\n",
       "    </tr>\n",
       "    <tr>\n",
       "      <th>59183</th>\n",
       "      <td>2023-01-29</td>\n",
       "      <td>Djokovic N.</td>\n",
       "    </tr>\n",
       "  </tbody>\n",
       "</table>\n",
       "</div>"
      ],
      "text/plain": [
       "             Date        Winner\n",
       "274    2000-01-17     Agassi A.\n",
       "3150   2001-01-15     Agassi A.\n",
       "6034   2002-01-14  Johansson T.\n",
       "8777   2003-01-26     Agassi A.\n",
       "11514  2004-01-31    Federer R.\n",
       "14298  2005-01-30      Safin M.\n",
       "17119  2006-01-29    Federer R.\n",
       "19908  2007-01-28    Federer R.\n",
       "22609  2008-01-27   Djokovic N.\n",
       "25180  2009-02-01      Nadal R.\n",
       "27785  2010-01-31    Federer R.\n",
       "30354  2011-01-30   Djokovic N.\n",
       "32905  2012-01-29   Djokovic N.\n",
       "35401  2013-01-27   Djokovic N.\n",
       "37907  2014-01-26   Wawrinka S.\n",
       "40404  2015-02-01   Djokovic N.\n",
       "42917  2016-01-31   Djokovic N.\n",
       "45437  2017-01-29    Federer R.\n",
       "47965  2018-01-28    Federer R.\n",
       "50512  2019-01-27   Djokovic N.\n",
       "52979  2020-02-02   Djokovic N.\n",
       "54287  2021-02-21   Djokovic N.\n",
       "56637  2022-01-30      Nadal R.\n",
       "59183  2023-01-29   Djokovic N."
      ]
     },
     "execution_count": 14,
     "metadata": {},
     "output_type": "execute_result"
    }
   ],
   "source": [
    "%%time\n",
    "df.loc[df.Tournament == 'Australian Open'].loc[df.Round == 'The Final'][['Date', 'Winner']]"
   ]
  },
  {
   "cell_type": "code",
   "execution_count": 15,
   "id": "9c552519",
   "metadata": {
    "execution": {
     "iopub.execute_input": "2023-06-22T10:26:54.175256Z",
     "iopub.status.busy": "2023-06-22T10:26:54.174866Z",
     "iopub.status.idle": "2023-06-22T10:26:54.194554Z",
     "shell.execute_reply": "2023-06-22T10:26:54.193298Z"
    },
    "papermill": {
     "duration": 0.035522,
     "end_time": "2023-06-22T10:26:54.197125",
     "exception": false,
     "start_time": "2023-06-22T10:26:54.161603",
     "status": "completed"
    },
    "tags": []
   },
   "outputs": [
    {
     "name": "stdout",
     "output_type": "stream",
     "text": [
      "CPU times: user 12.5 ms, sys: 1.09 ms, total: 13.6 ms\n",
      "Wall time: 13.1 ms\n"
     ]
    }
   ],
   "source": [
    "%%time\n",
    "ao_winners = pd.DataFrame(df.loc[df.Tournament == 'Australian Open']\n",
    "                            .loc[df.Round == 'The Final']['Winner'])\n",
    "ao_winners['Year'] = range(2000, 2024)\n",
    "ao_winners['Tournament'] = 'Australian Open'"
   ]
  },
  {
   "cell_type": "code",
   "execution_count": 16,
   "id": "6e364cf2",
   "metadata": {
    "execution": {
     "iopub.execute_input": "2023-06-22T10:26:54.222518Z",
     "iopub.status.busy": "2023-06-22T10:26:54.222107Z",
     "iopub.status.idle": "2023-06-22T10:26:54.249442Z",
     "shell.execute_reply": "2023-06-22T10:26:54.248279Z"
    },
    "papermill": {
     "duration": 0.043036,
     "end_time": "2023-06-22T10:26:54.251767",
     "exception": false,
     "start_time": "2023-06-22T10:26:54.208731",
     "status": "completed"
    },
    "tags": []
   },
   "outputs": [
    {
     "name": "stdout",
     "output_type": "stream",
     "text": [
      "CPU times: user 14 ms, sys: 0 ns, total: 14 ms\n",
      "Wall time: 13.7 ms\n"
     ]
    },
    {
     "data": {
      "text/html": [
       "<div>\n",
       "<style scoped>\n",
       "    .dataframe tbody tr th:only-of-type {\n",
       "        vertical-align: middle;\n",
       "    }\n",
       "\n",
       "    .dataframe tbody tr th {\n",
       "        vertical-align: top;\n",
       "    }\n",
       "\n",
       "    .dataframe thead th {\n",
       "        text-align: right;\n",
       "    }\n",
       "</style>\n",
       "<table border=\"1\" class=\"dataframe\">\n",
       "  <thead>\n",
       "    <tr style=\"text-align: right;\">\n",
       "      <th></th>\n",
       "      <th>Date</th>\n",
       "      <th>Winner</th>\n",
       "    </tr>\n",
       "  </thead>\n",
       "  <tbody>\n",
       "    <tr>\n",
       "      <th>1382</th>\n",
       "      <td>2000-05-29</td>\n",
       "      <td>Kuerten G.</td>\n",
       "    </tr>\n",
       "    <tr>\n",
       "      <th>4283</th>\n",
       "      <td>2001-05-28</td>\n",
       "      <td>Kuerten G.</td>\n",
       "    </tr>\n",
       "    <tr>\n",
       "      <th>7077</th>\n",
       "      <td>2002-05-27</td>\n",
       "      <td>Costa A.</td>\n",
       "    </tr>\n",
       "    <tr>\n",
       "      <th>9821</th>\n",
       "      <td>2003-06-08</td>\n",
       "      <td>Ferrero J.C.</td>\n",
       "    </tr>\n",
       "    <tr>\n",
       "      <th>12567</th>\n",
       "      <td>2004-06-06</td>\n",
       "      <td>Gaudio G.</td>\n",
       "    </tr>\n",
       "    <tr>\n",
       "      <th>15383</th>\n",
       "      <td>2005-06-05</td>\n",
       "      <td>Nadal R.</td>\n",
       "    </tr>\n",
       "    <tr>\n",
       "      <th>18194</th>\n",
       "      <td>2006-06-11</td>\n",
       "      <td>Nadal R.</td>\n",
       "    </tr>\n",
       "    <tr>\n",
       "      <th>20959</th>\n",
       "      <td>2007-06-10</td>\n",
       "      <td>Nadal R.</td>\n",
       "    </tr>\n",
       "    <tr>\n",
       "      <th>23655</th>\n",
       "      <td>2008-06-08</td>\n",
       "      <td>Nadal R.</td>\n",
       "    </tr>\n",
       "    <tr>\n",
       "      <th>26227</th>\n",
       "      <td>2009-06-07</td>\n",
       "      <td>Federer R.</td>\n",
       "    </tr>\n",
       "    <tr>\n",
       "      <th>28802</th>\n",
       "      <td>2010-06-06</td>\n",
       "      <td>Nadal R.</td>\n",
       "    </tr>\n",
       "    <tr>\n",
       "      <th>31374</th>\n",
       "      <td>2011-06-05</td>\n",
       "      <td>Nadal R.</td>\n",
       "    </tr>\n",
       "    <tr>\n",
       "      <th>33943</th>\n",
       "      <td>2012-06-10</td>\n",
       "      <td>Nadal R.</td>\n",
       "    </tr>\n",
       "    <tr>\n",
       "      <th>36420</th>\n",
       "      <td>2013-06-09</td>\n",
       "      <td>Nadal R.</td>\n",
       "    </tr>\n",
       "    <tr>\n",
       "      <th>38928</th>\n",
       "      <td>2014-06-08</td>\n",
       "      <td>Nadal R.</td>\n",
       "    </tr>\n",
       "    <tr>\n",
       "      <th>41443</th>\n",
       "      <td>2015-06-07</td>\n",
       "      <td>Wawrinka S.</td>\n",
       "    </tr>\n",
       "    <tr>\n",
       "      <th>43969</th>\n",
       "      <td>2016-06-05</td>\n",
       "      <td>Djokovic N.</td>\n",
       "    </tr>\n",
       "    <tr>\n",
       "      <th>46483</th>\n",
       "      <td>2017-06-11</td>\n",
       "      <td>Nadal R.</td>\n",
       "    </tr>\n",
       "    <tr>\n",
       "      <th>49032</th>\n",
       "      <td>2018-06-10</td>\n",
       "      <td>Nadal R.</td>\n",
       "    </tr>\n",
       "    <tr>\n",
       "      <th>51544</th>\n",
       "      <td>2019-06-09</td>\n",
       "      <td>Nadal R.</td>\n",
       "    </tr>\n",
       "    <tr>\n",
       "      <th>53723</th>\n",
       "      <td>2020-10-11</td>\n",
       "      <td>Nadal R.</td>\n",
       "    </tr>\n",
       "    <tr>\n",
       "      <th>55224</th>\n",
       "      <td>2021-06-13</td>\n",
       "      <td>Djokovic N.</td>\n",
       "    </tr>\n",
       "    <tr>\n",
       "      <th>57692</th>\n",
       "      <td>2022-06-05</td>\n",
       "      <td>Nadal R.</td>\n",
       "    </tr>\n",
       "    <tr>\n",
       "      <th>60272</th>\n",
       "      <td>2023-06-11</td>\n",
       "      <td>Djokovic N.</td>\n",
       "    </tr>\n",
       "  </tbody>\n",
       "</table>\n",
       "</div>"
      ],
      "text/plain": [
       "             Date        Winner\n",
       "1382   2000-05-29    Kuerten G.\n",
       "4283   2001-05-28    Kuerten G.\n",
       "7077   2002-05-27      Costa A.\n",
       "9821   2003-06-08  Ferrero J.C.\n",
       "12567  2004-06-06     Gaudio G.\n",
       "15383  2005-06-05      Nadal R.\n",
       "18194  2006-06-11      Nadal R.\n",
       "20959  2007-06-10      Nadal R.\n",
       "23655  2008-06-08      Nadal R.\n",
       "26227  2009-06-07    Federer R.\n",
       "28802  2010-06-06      Nadal R.\n",
       "31374  2011-06-05      Nadal R.\n",
       "33943  2012-06-10      Nadal R.\n",
       "36420  2013-06-09      Nadal R.\n",
       "38928  2014-06-08      Nadal R.\n",
       "41443  2015-06-07   Wawrinka S.\n",
       "43969  2016-06-05   Djokovic N.\n",
       "46483  2017-06-11      Nadal R.\n",
       "49032  2018-06-10      Nadal R.\n",
       "51544  2019-06-09      Nadal R.\n",
       "53723  2020-10-11      Nadal R.\n",
       "55224  2021-06-13   Djokovic N.\n",
       "57692  2022-06-05      Nadal R.\n",
       "60272  2023-06-11   Djokovic N."
      ]
     },
     "execution_count": 16,
     "metadata": {},
     "output_type": "execute_result"
    }
   ],
   "source": [
    "%%time\n",
    "df.loc[df.Tournament == 'French Open'].loc[df.Round == 'The Final'][['Date', 'Winner']]"
   ]
  },
  {
   "cell_type": "code",
   "execution_count": 17,
   "id": "66d64025",
   "metadata": {
    "execution": {
     "iopub.execute_input": "2023-06-22T10:26:54.277937Z",
     "iopub.status.busy": "2023-06-22T10:26:54.277481Z",
     "iopub.status.idle": "2023-06-22T10:26:54.298153Z",
     "shell.execute_reply": "2023-06-22T10:26:54.296679Z"
    },
    "papermill": {
     "duration": 0.036803,
     "end_time": "2023-06-22T10:26:54.300608",
     "exception": false,
     "start_time": "2023-06-22T10:26:54.263805",
     "status": "completed"
    },
    "tags": []
   },
   "outputs": [
    {
     "name": "stdout",
     "output_type": "stream",
     "text": [
      "CPU times: user 14.5 ms, sys: 58 µs, total: 14.6 ms\n",
      "Wall time: 14 ms\n"
     ]
    }
   ],
   "source": [
    "%%time\n",
    "rg_winners = pd.DataFrame(df.loc[df.Tournament == 'French Open']\n",
    "                            .loc[df.Round == 'The Final']['Winner'])\n",
    "rg_winners['Year'] = range(2000, 2024)\n",
    "rg_winners['Tournament'] = 'Roland Garros'"
   ]
  },
  {
   "cell_type": "code",
   "execution_count": 18,
   "id": "d951e67c",
   "metadata": {
    "execution": {
     "iopub.execute_input": "2023-06-22T10:26:54.326434Z",
     "iopub.status.busy": "2023-06-22T10:26:54.325317Z",
     "iopub.status.idle": "2023-06-22T10:26:54.350512Z",
     "shell.execute_reply": "2023-06-22T10:26:54.349396Z"
    },
    "papermill": {
     "duration": 0.040328,
     "end_time": "2023-06-22T10:26:54.352791",
     "exception": false,
     "start_time": "2023-06-22T10:26:54.312463",
     "status": "completed"
    },
    "tags": []
   },
   "outputs": [
    {
     "name": "stdout",
     "output_type": "stream",
     "text": [
      "CPU times: user 11.8 ms, sys: 0 ns, total: 11.8 ms\n",
      "Wall time: 11.8 ms\n"
     ]
    },
    {
     "data": {
      "text/html": [
       "<div>\n",
       "<style scoped>\n",
       "    .dataframe tbody tr th:only-of-type {\n",
       "        vertical-align: middle;\n",
       "    }\n",
       "\n",
       "    .dataframe tbody tr th {\n",
       "        vertical-align: top;\n",
       "    }\n",
       "\n",
       "    .dataframe thead th {\n",
       "        text-align: right;\n",
       "    }\n",
       "</style>\n",
       "<table border=\"1\" class=\"dataframe\">\n",
       "  <thead>\n",
       "    <tr style=\"text-align: right;\">\n",
       "      <th></th>\n",
       "      <th>Date</th>\n",
       "      <th>Winner</th>\n",
       "    </tr>\n",
       "  </thead>\n",
       "  <tbody>\n",
       "    <tr>\n",
       "      <th>1649</th>\n",
       "      <td>2000-06-26</td>\n",
       "      <td>Sampras P.</td>\n",
       "    </tr>\n",
       "    <tr>\n",
       "      <th>4550</th>\n",
       "      <td>2001-06-25</td>\n",
       "      <td>Ivanisevic G.</td>\n",
       "    </tr>\n",
       "    <tr>\n",
       "      <th>7338</th>\n",
       "      <td>2002-06-24</td>\n",
       "      <td>Hewitt L.</td>\n",
       "    </tr>\n",
       "    <tr>\n",
       "      <th>10087</th>\n",
       "      <td>2003-07-06</td>\n",
       "      <td>Federer R.</td>\n",
       "    </tr>\n",
       "    <tr>\n",
       "      <th>12838</th>\n",
       "      <td>2004-07-04</td>\n",
       "      <td>Federer R.</td>\n",
       "    </tr>\n",
       "    <tr>\n",
       "      <th>15651</th>\n",
       "      <td>2005-07-03</td>\n",
       "      <td>Federer R.</td>\n",
       "    </tr>\n",
       "    <tr>\n",
       "      <th>18461</th>\n",
       "      <td>2006-07-09</td>\n",
       "      <td>Federer R.</td>\n",
       "    </tr>\n",
       "    <tr>\n",
       "      <th>21222</th>\n",
       "      <td>2007-07-08</td>\n",
       "      <td>Federer R.</td>\n",
       "    </tr>\n",
       "    <tr>\n",
       "      <th>23936</th>\n",
       "      <td>2008-07-06</td>\n",
       "      <td>Nadal R.</td>\n",
       "    </tr>\n",
       "    <tr>\n",
       "      <th>26486</th>\n",
       "      <td>2009-07-05</td>\n",
       "      <td>Federer R.</td>\n",
       "    </tr>\n",
       "    <tr>\n",
       "      <th>29061</th>\n",
       "      <td>2010-07-04</td>\n",
       "      <td>Nadal R.</td>\n",
       "    </tr>\n",
       "    <tr>\n",
       "      <th>31636</th>\n",
       "      <td>2011-07-02</td>\n",
       "      <td>Djokovic N.</td>\n",
       "    </tr>\n",
       "    <tr>\n",
       "      <th>34194</th>\n",
       "      <td>2012-07-08</td>\n",
       "      <td>Federer R.</td>\n",
       "    </tr>\n",
       "    <tr>\n",
       "      <th>36674</th>\n",
       "      <td>2013-07-07</td>\n",
       "      <td>Murray A.</td>\n",
       "    </tr>\n",
       "    <tr>\n",
       "      <th>39185</th>\n",
       "      <td>2014-07-06</td>\n",
       "      <td>Djokovic N.</td>\n",
       "    </tr>\n",
       "    <tr>\n",
       "      <th>41722</th>\n",
       "      <td>2015-07-12</td>\n",
       "      <td>Djokovic N.</td>\n",
       "    </tr>\n",
       "    <tr>\n",
       "      <th>44249</th>\n",
       "      <td>2016-07-10</td>\n",
       "      <td>Murray A.</td>\n",
       "    </tr>\n",
       "    <tr>\n",
       "      <th>46764</th>\n",
       "      <td>2017-07-16</td>\n",
       "      <td>Federer R.</td>\n",
       "    </tr>\n",
       "    <tr>\n",
       "      <th>49323</th>\n",
       "      <td>2018-07-15</td>\n",
       "      <td>Djokovic N.</td>\n",
       "    </tr>\n",
       "    <tr>\n",
       "      <th>51834</th>\n",
       "      <td>2019-07-14</td>\n",
       "      <td>Djokovic N.</td>\n",
       "    </tr>\n",
       "    <tr>\n",
       "      <th>55484</th>\n",
       "      <td>2021-07-11</td>\n",
       "      <td>Djokovic N.</td>\n",
       "    </tr>\n",
       "    <tr>\n",
       "      <th>57976</th>\n",
       "      <td>2022-07-10</td>\n",
       "      <td>Djokovic N.</td>\n",
       "    </tr>\n",
       "  </tbody>\n",
       "</table>\n",
       "</div>"
      ],
      "text/plain": [
       "             Date         Winner\n",
       "1649   2000-06-26     Sampras P.\n",
       "4550   2001-06-25  Ivanisevic G.\n",
       "7338   2002-06-24      Hewitt L.\n",
       "10087  2003-07-06     Federer R.\n",
       "12838  2004-07-04     Federer R.\n",
       "15651  2005-07-03     Federer R.\n",
       "18461  2006-07-09     Federer R.\n",
       "21222  2007-07-08     Federer R.\n",
       "23936  2008-07-06       Nadal R.\n",
       "26486  2009-07-05     Federer R.\n",
       "29061  2010-07-04       Nadal R.\n",
       "31636  2011-07-02    Djokovic N.\n",
       "34194  2012-07-08     Federer R.\n",
       "36674  2013-07-07      Murray A.\n",
       "39185  2014-07-06    Djokovic N.\n",
       "41722  2015-07-12    Djokovic N.\n",
       "44249  2016-07-10      Murray A.\n",
       "46764  2017-07-16     Federer R.\n",
       "49323  2018-07-15    Djokovic N.\n",
       "51834  2019-07-14    Djokovic N.\n",
       "55484  2021-07-11    Djokovic N.\n",
       "57976  2022-07-10    Djokovic N."
      ]
     },
     "execution_count": 18,
     "metadata": {},
     "output_type": "execute_result"
    }
   ],
   "source": [
    "%%time\n",
    "df.loc[df.Tournament == 'Wimbledon'].loc[df.Round == 'The Final'][['Date', 'Winner']]"
   ]
  },
  {
   "cell_type": "code",
   "execution_count": 19,
   "id": "cb8a397e",
   "metadata": {
    "execution": {
     "iopub.execute_input": "2023-06-22T10:26:54.379951Z",
     "iopub.status.busy": "2023-06-22T10:26:54.378678Z",
     "iopub.status.idle": "2023-06-22T10:26:54.399777Z",
     "shell.execute_reply": "2023-06-22T10:26:54.398810Z"
    },
    "papermill": {
     "duration": 0.037233,
     "end_time": "2023-06-22T10:26:54.402357",
     "exception": false,
     "start_time": "2023-06-22T10:26:54.365124",
     "status": "completed"
    },
    "tags": []
   },
   "outputs": [
    {
     "name": "stdout",
     "output_type": "stream",
     "text": [
      "CPU times: user 13.6 ms, sys: 0 ns, total: 13.6 ms\n",
      "Wall time: 13.6 ms\n"
     ]
    }
   ],
   "source": [
    "%%time\n",
    "wim_winners = pd.DataFrame(df.loc[df.Tournament == 'Wimbledon']\n",
    "                             .loc[df.Round == 'The Final']['Winner'])\n",
    "wim_winners['Year'] = range(2000, 2022)\n",
    "wim_winners_2021_to_2022 = wim_winners[wim_winners.Year >= 2020]\n",
    "wim_winners_2021_to_2022.Year += 1\n",
    "wim_winners = wim_winners.loc[wim_winners.Year < 2020]\n",
    "wim_winners = pd.concat([wim_winners, wim_winners_2021_to_2022], axis=0)\n",
    "wim_winners['Tournament'] = 'Wimbledon'"
   ]
  },
  {
   "cell_type": "code",
   "execution_count": 20,
   "id": "d78f383c",
   "metadata": {
    "execution": {
     "iopub.execute_input": "2023-06-22T10:26:54.428601Z",
     "iopub.status.busy": "2023-06-22T10:26:54.428205Z",
     "iopub.status.idle": "2023-06-22T10:26:54.453733Z",
     "shell.execute_reply": "2023-06-22T10:26:54.452413Z"
    },
    "papermill": {
     "duration": 0.041526,
     "end_time": "2023-06-22T10:26:54.456096",
     "exception": false,
     "start_time": "2023-06-22T10:26:54.414570",
     "status": "completed"
    },
    "tags": []
   },
   "outputs": [
    {
     "name": "stdout",
     "output_type": "stream",
     "text": [
      "CPU times: user 13.3 ms, sys: 0 ns, total: 13.3 ms\n",
      "Wall time: 13 ms\n"
     ]
    },
    {
     "data": {
      "text/html": [
       "<div>\n",
       "<style scoped>\n",
       "    .dataframe tbody tr th:only-of-type {\n",
       "        vertical-align: middle;\n",
       "    }\n",
       "\n",
       "    .dataframe tbody tr th {\n",
       "        vertical-align: top;\n",
       "    }\n",
       "\n",
       "    .dataframe thead th {\n",
       "        text-align: right;\n",
       "    }\n",
       "</style>\n",
       "<table border=\"1\" class=\"dataframe\">\n",
       "  <thead>\n",
       "    <tr style=\"text-align: right;\">\n",
       "      <th></th>\n",
       "      <th>Date</th>\n",
       "      <th>Winner</th>\n",
       "    </tr>\n",
       "  </thead>\n",
       "  <tbody>\n",
       "    <tr>\n",
       "      <th>2330</th>\n",
       "      <td>2000-08-28</td>\n",
       "      <td>Safin M.</td>\n",
       "    </tr>\n",
       "    <tr>\n",
       "      <th>5237</th>\n",
       "      <td>2001-08-27</td>\n",
       "      <td>Hewitt L.</td>\n",
       "    </tr>\n",
       "    <tr>\n",
       "      <th>8022</th>\n",
       "      <td>2002-08-26</td>\n",
       "      <td>Sampras P.</td>\n",
       "    </tr>\n",
       "    <tr>\n",
       "      <th>10744</th>\n",
       "      <td>2003-09-07</td>\n",
       "      <td>Roddick A.</td>\n",
       "    </tr>\n",
       "    <tr>\n",
       "      <th>13490</th>\n",
       "      <td>2004-09-12</td>\n",
       "      <td>Federer R.</td>\n",
       "    </tr>\n",
       "    <tr>\n",
       "      <th>16329</th>\n",
       "      <td>2005-09-11</td>\n",
       "      <td>Federer R.</td>\n",
       "    </tr>\n",
       "    <tr>\n",
       "      <th>19135</th>\n",
       "      <td>2006-09-10</td>\n",
       "      <td>Federer R.</td>\n",
       "    </tr>\n",
       "    <tr>\n",
       "      <th>21856</th>\n",
       "      <td>2007-09-09</td>\n",
       "      <td>Federer R.</td>\n",
       "    </tr>\n",
       "    <tr>\n",
       "      <th>24477</th>\n",
       "      <td>2008-09-08</td>\n",
       "      <td>Federer R.</td>\n",
       "    </tr>\n",
       "    <tr>\n",
       "      <th>27046</th>\n",
       "      <td>2009-09-14</td>\n",
       "      <td>Del Potro J.M.</td>\n",
       "    </tr>\n",
       "    <tr>\n",
       "      <th>29616</th>\n",
       "      <td>2010-09-12</td>\n",
       "      <td>Nadal R.</td>\n",
       "    </tr>\n",
       "    <tr>\n",
       "      <th>32207</th>\n",
       "      <td>2011-09-12</td>\n",
       "      <td>Djokovic N.</td>\n",
       "    </tr>\n",
       "    <tr>\n",
       "      <th>34738</th>\n",
       "      <td>2012-09-10</td>\n",
       "      <td>Murray A.</td>\n",
       "    </tr>\n",
       "    <tr>\n",
       "      <th>37245</th>\n",
       "      <td>2013-09-09</td>\n",
       "      <td>Nadal R.</td>\n",
       "    </tr>\n",
       "    <tr>\n",
       "      <th>39757</th>\n",
       "      <td>2014-09-08</td>\n",
       "      <td>Cilic M.</td>\n",
       "    </tr>\n",
       "    <tr>\n",
       "      <th>42249</th>\n",
       "      <td>2015-09-13</td>\n",
       "      <td>Djokovic N.</td>\n",
       "    </tr>\n",
       "    <tr>\n",
       "      <th>44771</th>\n",
       "      <td>2016-09-11</td>\n",
       "      <td>Wawrinka S.</td>\n",
       "    </tr>\n",
       "    <tr>\n",
       "      <th>47300</th>\n",
       "      <td>2017-09-10</td>\n",
       "      <td>Nadal R.</td>\n",
       "    </tr>\n",
       "    <tr>\n",
       "      <th>49852</th>\n",
       "      <td>2018-09-09</td>\n",
       "      <td>Djokovic N.</td>\n",
       "    </tr>\n",
       "    <tr>\n",
       "      <th>53514</th>\n",
       "      <td>2020-09-13</td>\n",
       "      <td>Thiem D.</td>\n",
       "    </tr>\n",
       "    <tr>\n",
       "      <th>56006</th>\n",
       "      <td>2021-09-12</td>\n",
       "      <td>Medvedev D.</td>\n",
       "    </tr>\n",
       "    <tr>\n",
       "      <th>58507</th>\n",
       "      <td>2022-09-11</td>\n",
       "      <td>Alcaraz C.</td>\n",
       "    </tr>\n",
       "  </tbody>\n",
       "</table>\n",
       "</div>"
      ],
      "text/plain": [
       "             Date          Winner\n",
       "2330   2000-08-28        Safin M.\n",
       "5237   2001-08-27       Hewitt L.\n",
       "8022   2002-08-26      Sampras P.\n",
       "10744  2003-09-07      Roddick A.\n",
       "13490  2004-09-12      Federer R.\n",
       "16329  2005-09-11      Federer R.\n",
       "19135  2006-09-10      Federer R.\n",
       "21856  2007-09-09      Federer R.\n",
       "24477  2008-09-08      Federer R.\n",
       "27046  2009-09-14  Del Potro J.M.\n",
       "29616  2010-09-12        Nadal R.\n",
       "32207  2011-09-12     Djokovic N.\n",
       "34738  2012-09-10       Murray A.\n",
       "37245  2013-09-09        Nadal R.\n",
       "39757  2014-09-08        Cilic M.\n",
       "42249  2015-09-13     Djokovic N.\n",
       "44771  2016-09-11     Wawrinka S.\n",
       "47300  2017-09-10        Nadal R.\n",
       "49852  2018-09-09     Djokovic N.\n",
       "53514  2020-09-13        Thiem D.\n",
       "56006  2021-09-12     Medvedev D.\n",
       "58507  2022-09-11      Alcaraz C."
      ]
     },
     "execution_count": 20,
     "metadata": {},
     "output_type": "execute_result"
    }
   ],
   "source": [
    "%%time\n",
    "df.loc[df.Tournament == 'US Open'].loc[df.Round == 'The Final'][['Date', 'Winner']]  # 2019 Nadal (W) - Medvedev is missing"
   ]
  },
  {
   "cell_type": "code",
   "execution_count": 21,
   "id": "70ffc770",
   "metadata": {
    "execution": {
     "iopub.execute_input": "2023-06-22T10:26:54.483756Z",
     "iopub.status.busy": "2023-06-22T10:26:54.482512Z",
     "iopub.status.idle": "2023-06-22T10:26:54.508012Z",
     "shell.execute_reply": "2023-06-22T10:26:54.505701Z"
    },
    "papermill": {
     "duration": 0.042114,
     "end_time": "2023-06-22T10:26:54.510809",
     "exception": false,
     "start_time": "2023-06-22T10:26:54.468695",
     "status": "completed"
    },
    "tags": []
   },
   "outputs": [
    {
     "name": "stdout",
     "output_type": "stream",
     "text": [
      "CPU times: user 15.4 ms, sys: 0 ns, total: 15.4 ms\n",
      "Wall time: 15.4 ms\n"
     ]
    }
   ],
   "source": [
    "%%time\n",
    "uso_winners = pd.DataFrame(df.loc[df.Tournament == 'US Open']\n",
    "                             .loc[df.Round == 'The Final']['Winner'])\n",
    "uso_winners['Year'] = range(2000, 2022)\n",
    "uso_winners_2020_to_2022 = uso_winners[uso_winners.Year >= 2019]\n",
    "uso_winners_2020_to_2022.Year += 1\n",
    "uso_winners = uso_winners.loc[uso_winners.Year < 2019]\n",
    "uso_winners = pd.concat([uso_winners, \n",
    "                         uso_winners_2020_to_2022], axis=0)\n",
    "uso_winners['Tournament'] = 'US Open'\n",
    "uso_winners = uso_winners.append(pd.DataFrame({'Winner': ['Nadal R.'],\n",
    "                                               'Year': [2019],\n",
    "                                               'Tournament': ['US Open']}),\n",
    "                                 ignore_index=True)"
   ]
  },
  {
   "cell_type": "code",
   "execution_count": 22,
   "id": "08a81aad",
   "metadata": {
    "execution": {
     "iopub.execute_input": "2023-06-22T10:26:54.539049Z",
     "iopub.status.busy": "2023-06-22T10:26:54.538168Z",
     "iopub.status.idle": "2023-06-22T10:26:54.558790Z",
     "shell.execute_reply": "2023-06-22T10:26:54.557861Z"
    },
    "papermill": {
     "duration": 0.039293,
     "end_time": "2023-06-22T10:26:54.563016",
     "exception": false,
     "start_time": "2023-06-22T10:26:54.523723",
     "status": "completed"
    },
    "tags": []
   },
   "outputs": [
    {
     "name": "stdout",
     "output_type": "stream",
     "text": [
      "CPU times: user 11.9 ms, sys: 0 ns, total: 11.9 ms\n",
      "Wall time: 13.8 ms\n"
     ]
    }
   ],
   "source": [
    "%%time\n",
    "gs_winners = pd.concat([ao_winners, rg_winners, \n",
    "                        wim_winners, uso_winners], axis=0) \\\n",
    "               .sort_values(by='Year') \\\n",
    "               .reset_index(drop=True)\n",
    "gs_winners_pvt = gs_winners.pivot(index='Year', columns='Tournament', values='Winner')"
   ]
  },
  {
   "cell_type": "code",
   "execution_count": 23,
   "id": "b276992d",
   "metadata": {
    "execution": {
     "iopub.execute_input": "2023-06-22T10:26:54.593030Z",
     "iopub.status.busy": "2023-06-22T10:26:54.592323Z",
     "iopub.status.idle": "2023-06-22T10:26:54.686184Z",
     "shell.execute_reply": "2023-06-22T10:26:54.684800Z"
    },
    "papermill": {
     "duration": 0.111287,
     "end_time": "2023-06-22T10:26:54.688489",
     "exception": false,
     "start_time": "2023-06-22T10:26:54.577202",
     "status": "completed"
    },
    "tags": []
   },
   "outputs": [
    {
     "name": "stdout",
     "output_type": "stream",
     "text": [
      "CPU times: user 68.8 ms, sys: 2.37 ms, total: 71.1 ms\n",
      "Wall time: 78.4 ms\n"
     ]
    },
    {
     "data": {
      "text/html": [
       "<style type=\"text/css\">\n",
       "#T_8b8df_row20_col2, #T_8b8df_row23_col2, #T_8b8df_row23_col3 {\n",
       "  background-color: lightgreen;\n",
       "}\n",
       "</style>\n",
       "<table id=\"T_8b8df\">\n",
       "  <thead>\n",
       "    <tr>\n",
       "      <th class=\"index_name level0\" >Tournament</th>\n",
       "      <th id=\"T_8b8df_level0_col0\" class=\"col_heading level0 col0\" >Australian Open</th>\n",
       "      <th id=\"T_8b8df_level0_col1\" class=\"col_heading level0 col1\" >Roland Garros</th>\n",
       "      <th id=\"T_8b8df_level0_col2\" class=\"col_heading level0 col2\" >Wimbledon</th>\n",
       "      <th id=\"T_8b8df_level0_col3\" class=\"col_heading level0 col3\" >US Open</th>\n",
       "    </tr>\n",
       "    <tr>\n",
       "      <th class=\"index_name level0\" >Year</th>\n",
       "      <th class=\"blank col0\" >&nbsp;</th>\n",
       "      <th class=\"blank col1\" >&nbsp;</th>\n",
       "      <th class=\"blank col2\" >&nbsp;</th>\n",
       "      <th class=\"blank col3\" >&nbsp;</th>\n",
       "    </tr>\n",
       "  </thead>\n",
       "  <tbody>\n",
       "    <tr>\n",
       "      <th id=\"T_8b8df_level0_row0\" class=\"row_heading level0 row0\" >2000</th>\n",
       "      <td id=\"T_8b8df_row0_col0\" class=\"data row0 col0\" >Agassi A.</td>\n",
       "      <td id=\"T_8b8df_row0_col1\" class=\"data row0 col1\" >Kuerten G.</td>\n",
       "      <td id=\"T_8b8df_row0_col2\" class=\"data row0 col2\" >Sampras P.</td>\n",
       "      <td id=\"T_8b8df_row0_col3\" class=\"data row0 col3\" >Safin M.</td>\n",
       "    </tr>\n",
       "    <tr>\n",
       "      <th id=\"T_8b8df_level0_row1\" class=\"row_heading level0 row1\" >2001</th>\n",
       "      <td id=\"T_8b8df_row1_col0\" class=\"data row1 col0\" >Agassi A.</td>\n",
       "      <td id=\"T_8b8df_row1_col1\" class=\"data row1 col1\" >Kuerten G.</td>\n",
       "      <td id=\"T_8b8df_row1_col2\" class=\"data row1 col2\" >Ivanisevic G.</td>\n",
       "      <td id=\"T_8b8df_row1_col3\" class=\"data row1 col3\" >Hewitt L.</td>\n",
       "    </tr>\n",
       "    <tr>\n",
       "      <th id=\"T_8b8df_level0_row2\" class=\"row_heading level0 row2\" >2002</th>\n",
       "      <td id=\"T_8b8df_row2_col0\" class=\"data row2 col0\" >Johansson T.</td>\n",
       "      <td id=\"T_8b8df_row2_col1\" class=\"data row2 col1\" >Costa A.</td>\n",
       "      <td id=\"T_8b8df_row2_col2\" class=\"data row2 col2\" >Hewitt L.</td>\n",
       "      <td id=\"T_8b8df_row2_col3\" class=\"data row2 col3\" >Sampras P.</td>\n",
       "    </tr>\n",
       "    <tr>\n",
       "      <th id=\"T_8b8df_level0_row3\" class=\"row_heading level0 row3\" >2003</th>\n",
       "      <td id=\"T_8b8df_row3_col0\" class=\"data row3 col0\" >Agassi A.</td>\n",
       "      <td id=\"T_8b8df_row3_col1\" class=\"data row3 col1\" >Ferrero J.C.</td>\n",
       "      <td id=\"T_8b8df_row3_col2\" class=\"data row3 col2\" >Federer R.</td>\n",
       "      <td id=\"T_8b8df_row3_col3\" class=\"data row3 col3\" >Roddick A.</td>\n",
       "    </tr>\n",
       "    <tr>\n",
       "      <th id=\"T_8b8df_level0_row4\" class=\"row_heading level0 row4\" >2004</th>\n",
       "      <td id=\"T_8b8df_row4_col0\" class=\"data row4 col0\" >Federer R.</td>\n",
       "      <td id=\"T_8b8df_row4_col1\" class=\"data row4 col1\" >Gaudio G.</td>\n",
       "      <td id=\"T_8b8df_row4_col2\" class=\"data row4 col2\" >Federer R.</td>\n",
       "      <td id=\"T_8b8df_row4_col3\" class=\"data row4 col3\" >Federer R.</td>\n",
       "    </tr>\n",
       "    <tr>\n",
       "      <th id=\"T_8b8df_level0_row5\" class=\"row_heading level0 row5\" >2005</th>\n",
       "      <td id=\"T_8b8df_row5_col0\" class=\"data row5 col0\" >Safin M.</td>\n",
       "      <td id=\"T_8b8df_row5_col1\" class=\"data row5 col1\" >Nadal R.</td>\n",
       "      <td id=\"T_8b8df_row5_col2\" class=\"data row5 col2\" >Federer R.</td>\n",
       "      <td id=\"T_8b8df_row5_col3\" class=\"data row5 col3\" >Federer R.</td>\n",
       "    </tr>\n",
       "    <tr>\n",
       "      <th id=\"T_8b8df_level0_row6\" class=\"row_heading level0 row6\" >2006</th>\n",
       "      <td id=\"T_8b8df_row6_col0\" class=\"data row6 col0\" >Federer R.</td>\n",
       "      <td id=\"T_8b8df_row6_col1\" class=\"data row6 col1\" >Nadal R.</td>\n",
       "      <td id=\"T_8b8df_row6_col2\" class=\"data row6 col2\" >Federer R.</td>\n",
       "      <td id=\"T_8b8df_row6_col3\" class=\"data row6 col3\" >Federer R.</td>\n",
       "    </tr>\n",
       "    <tr>\n",
       "      <th id=\"T_8b8df_level0_row7\" class=\"row_heading level0 row7\" >2007</th>\n",
       "      <td id=\"T_8b8df_row7_col0\" class=\"data row7 col0\" >Federer R.</td>\n",
       "      <td id=\"T_8b8df_row7_col1\" class=\"data row7 col1\" >Nadal R.</td>\n",
       "      <td id=\"T_8b8df_row7_col2\" class=\"data row7 col2\" >Federer R.</td>\n",
       "      <td id=\"T_8b8df_row7_col3\" class=\"data row7 col3\" >Federer R.</td>\n",
       "    </tr>\n",
       "    <tr>\n",
       "      <th id=\"T_8b8df_level0_row8\" class=\"row_heading level0 row8\" >2008</th>\n",
       "      <td id=\"T_8b8df_row8_col0\" class=\"data row8 col0\" >Djokovic N.</td>\n",
       "      <td id=\"T_8b8df_row8_col1\" class=\"data row8 col1\" >Nadal R.</td>\n",
       "      <td id=\"T_8b8df_row8_col2\" class=\"data row8 col2\" >Nadal R.</td>\n",
       "      <td id=\"T_8b8df_row8_col3\" class=\"data row8 col3\" >Federer R.</td>\n",
       "    </tr>\n",
       "    <tr>\n",
       "      <th id=\"T_8b8df_level0_row9\" class=\"row_heading level0 row9\" >2009</th>\n",
       "      <td id=\"T_8b8df_row9_col0\" class=\"data row9 col0\" >Nadal R.</td>\n",
       "      <td id=\"T_8b8df_row9_col1\" class=\"data row9 col1\" >Federer R.</td>\n",
       "      <td id=\"T_8b8df_row9_col2\" class=\"data row9 col2\" >Federer R.</td>\n",
       "      <td id=\"T_8b8df_row9_col3\" class=\"data row9 col3\" >Del Potro J.M.</td>\n",
       "    </tr>\n",
       "    <tr>\n",
       "      <th id=\"T_8b8df_level0_row10\" class=\"row_heading level0 row10\" >2010</th>\n",
       "      <td id=\"T_8b8df_row10_col0\" class=\"data row10 col0\" >Federer R.</td>\n",
       "      <td id=\"T_8b8df_row10_col1\" class=\"data row10 col1\" >Nadal R.</td>\n",
       "      <td id=\"T_8b8df_row10_col2\" class=\"data row10 col2\" >Nadal R.</td>\n",
       "      <td id=\"T_8b8df_row10_col3\" class=\"data row10 col3\" >Nadal R.</td>\n",
       "    </tr>\n",
       "    <tr>\n",
       "      <th id=\"T_8b8df_level0_row11\" class=\"row_heading level0 row11\" >2011</th>\n",
       "      <td id=\"T_8b8df_row11_col0\" class=\"data row11 col0\" >Djokovic N.</td>\n",
       "      <td id=\"T_8b8df_row11_col1\" class=\"data row11 col1\" >Nadal R.</td>\n",
       "      <td id=\"T_8b8df_row11_col2\" class=\"data row11 col2\" >Djokovic N.</td>\n",
       "      <td id=\"T_8b8df_row11_col3\" class=\"data row11 col3\" >Djokovic N.</td>\n",
       "    </tr>\n",
       "    <tr>\n",
       "      <th id=\"T_8b8df_level0_row12\" class=\"row_heading level0 row12\" >2012</th>\n",
       "      <td id=\"T_8b8df_row12_col0\" class=\"data row12 col0\" >Djokovic N.</td>\n",
       "      <td id=\"T_8b8df_row12_col1\" class=\"data row12 col1\" >Nadal R.</td>\n",
       "      <td id=\"T_8b8df_row12_col2\" class=\"data row12 col2\" >Federer R.</td>\n",
       "      <td id=\"T_8b8df_row12_col3\" class=\"data row12 col3\" >Murray A.</td>\n",
       "    </tr>\n",
       "    <tr>\n",
       "      <th id=\"T_8b8df_level0_row13\" class=\"row_heading level0 row13\" >2013</th>\n",
       "      <td id=\"T_8b8df_row13_col0\" class=\"data row13 col0\" >Djokovic N.</td>\n",
       "      <td id=\"T_8b8df_row13_col1\" class=\"data row13 col1\" >Nadal R.</td>\n",
       "      <td id=\"T_8b8df_row13_col2\" class=\"data row13 col2\" >Murray A.</td>\n",
       "      <td id=\"T_8b8df_row13_col3\" class=\"data row13 col3\" >Nadal R.</td>\n",
       "    </tr>\n",
       "    <tr>\n",
       "      <th id=\"T_8b8df_level0_row14\" class=\"row_heading level0 row14\" >2014</th>\n",
       "      <td id=\"T_8b8df_row14_col0\" class=\"data row14 col0\" >Wawrinka S.</td>\n",
       "      <td id=\"T_8b8df_row14_col1\" class=\"data row14 col1\" >Nadal R.</td>\n",
       "      <td id=\"T_8b8df_row14_col2\" class=\"data row14 col2\" >Djokovic N.</td>\n",
       "      <td id=\"T_8b8df_row14_col3\" class=\"data row14 col3\" >Cilic M.</td>\n",
       "    </tr>\n",
       "    <tr>\n",
       "      <th id=\"T_8b8df_level0_row15\" class=\"row_heading level0 row15\" >2015</th>\n",
       "      <td id=\"T_8b8df_row15_col0\" class=\"data row15 col0\" >Djokovic N.</td>\n",
       "      <td id=\"T_8b8df_row15_col1\" class=\"data row15 col1\" >Wawrinka S.</td>\n",
       "      <td id=\"T_8b8df_row15_col2\" class=\"data row15 col2\" >Djokovic N.</td>\n",
       "      <td id=\"T_8b8df_row15_col3\" class=\"data row15 col3\" >Djokovic N.</td>\n",
       "    </tr>\n",
       "    <tr>\n",
       "      <th id=\"T_8b8df_level0_row16\" class=\"row_heading level0 row16\" >2016</th>\n",
       "      <td id=\"T_8b8df_row16_col0\" class=\"data row16 col0\" >Djokovic N.</td>\n",
       "      <td id=\"T_8b8df_row16_col1\" class=\"data row16 col1\" >Djokovic N.</td>\n",
       "      <td id=\"T_8b8df_row16_col2\" class=\"data row16 col2\" >Murray A.</td>\n",
       "      <td id=\"T_8b8df_row16_col3\" class=\"data row16 col3\" >Wawrinka S.</td>\n",
       "    </tr>\n",
       "    <tr>\n",
       "      <th id=\"T_8b8df_level0_row17\" class=\"row_heading level0 row17\" >2017</th>\n",
       "      <td id=\"T_8b8df_row17_col0\" class=\"data row17 col0\" >Federer R.</td>\n",
       "      <td id=\"T_8b8df_row17_col1\" class=\"data row17 col1\" >Nadal R.</td>\n",
       "      <td id=\"T_8b8df_row17_col2\" class=\"data row17 col2\" >Federer R.</td>\n",
       "      <td id=\"T_8b8df_row17_col3\" class=\"data row17 col3\" >Nadal R.</td>\n",
       "    </tr>\n",
       "    <tr>\n",
       "      <th id=\"T_8b8df_level0_row18\" class=\"row_heading level0 row18\" >2018</th>\n",
       "      <td id=\"T_8b8df_row18_col0\" class=\"data row18 col0\" >Federer R.</td>\n",
       "      <td id=\"T_8b8df_row18_col1\" class=\"data row18 col1\" >Nadal R.</td>\n",
       "      <td id=\"T_8b8df_row18_col2\" class=\"data row18 col2\" >Djokovic N.</td>\n",
       "      <td id=\"T_8b8df_row18_col3\" class=\"data row18 col3\" >Djokovic N.</td>\n",
       "    </tr>\n",
       "    <tr>\n",
       "      <th id=\"T_8b8df_level0_row19\" class=\"row_heading level0 row19\" >2019</th>\n",
       "      <td id=\"T_8b8df_row19_col0\" class=\"data row19 col0\" >Djokovic N.</td>\n",
       "      <td id=\"T_8b8df_row19_col1\" class=\"data row19 col1\" >Nadal R.</td>\n",
       "      <td id=\"T_8b8df_row19_col2\" class=\"data row19 col2\" >Djokovic N.</td>\n",
       "      <td id=\"T_8b8df_row19_col3\" class=\"data row19 col3\" >Nadal R.</td>\n",
       "    </tr>\n",
       "    <tr>\n",
       "      <th id=\"T_8b8df_level0_row20\" class=\"row_heading level0 row20\" >2020</th>\n",
       "      <td id=\"T_8b8df_row20_col0\" class=\"data row20 col0\" >Djokovic N.</td>\n",
       "      <td id=\"T_8b8df_row20_col1\" class=\"data row20 col1\" >Nadal R.</td>\n",
       "      <td id=\"T_8b8df_row20_col2\" class=\"data row20 col2\" >nan</td>\n",
       "      <td id=\"T_8b8df_row20_col3\" class=\"data row20 col3\" >Thiem D.</td>\n",
       "    </tr>\n",
       "    <tr>\n",
       "      <th id=\"T_8b8df_level0_row21\" class=\"row_heading level0 row21\" >2021</th>\n",
       "      <td id=\"T_8b8df_row21_col0\" class=\"data row21 col0\" >Djokovic N.</td>\n",
       "      <td id=\"T_8b8df_row21_col1\" class=\"data row21 col1\" >Djokovic N.</td>\n",
       "      <td id=\"T_8b8df_row21_col2\" class=\"data row21 col2\" >Djokovic N.</td>\n",
       "      <td id=\"T_8b8df_row21_col3\" class=\"data row21 col3\" >Medvedev D.</td>\n",
       "    </tr>\n",
       "    <tr>\n",
       "      <th id=\"T_8b8df_level0_row22\" class=\"row_heading level0 row22\" >2022</th>\n",
       "      <td id=\"T_8b8df_row22_col0\" class=\"data row22 col0\" >Nadal R.</td>\n",
       "      <td id=\"T_8b8df_row22_col1\" class=\"data row22 col1\" >Nadal R.</td>\n",
       "      <td id=\"T_8b8df_row22_col2\" class=\"data row22 col2\" >Djokovic N.</td>\n",
       "      <td id=\"T_8b8df_row22_col3\" class=\"data row22 col3\" >Alcaraz C.</td>\n",
       "    </tr>\n",
       "    <tr>\n",
       "      <th id=\"T_8b8df_level0_row23\" class=\"row_heading level0 row23\" >2023</th>\n",
       "      <td id=\"T_8b8df_row23_col0\" class=\"data row23 col0\" >Djokovic N.</td>\n",
       "      <td id=\"T_8b8df_row23_col1\" class=\"data row23 col1\" >Djokovic N.</td>\n",
       "      <td id=\"T_8b8df_row23_col2\" class=\"data row23 col2\" >nan</td>\n",
       "      <td id=\"T_8b8df_row23_col3\" class=\"data row23 col3\" >nan</td>\n",
       "    </tr>\n",
       "  </tbody>\n",
       "</table>\n"
      ],
      "text/plain": [
       "<pandas.io.formats.style.Styler at 0x7d8d2f88b370>"
      ]
     },
     "execution_count": 23,
     "metadata": {},
     "output_type": "execute_result"
    }
   ],
   "source": [
    "%%time\n",
    "gs_winners_pvt[['Australian Open', 'Roland Garros',\n",
    "                'Wimbledon', 'US Open']].style.highlight_null(color='lightgreen')"
   ]
  },
  {
   "cell_type": "markdown",
   "id": "92a3d563",
   "metadata": {
    "papermill": {
     "duration": 0.012959,
     "end_time": "2023-06-22T10:26:54.714619",
     "exception": false,
     "start_time": "2023-06-22T10:26:54.701660",
     "status": "completed"
    },
    "tags": []
   },
   "source": [
    "### <span style=\"color:darkgreen\">Wimbledon 2020 was never played due to COVID-19</span>."
   ]
  },
  {
   "cell_type": "code",
   "execution_count": 24,
   "id": "0052fae8",
   "metadata": {
    "execution": {
     "iopub.execute_input": "2023-06-22T10:26:54.742785Z",
     "iopub.status.busy": "2023-06-22T10:26:54.742379Z",
     "iopub.status.idle": "2023-06-22T10:26:55.252193Z",
     "shell.execute_reply": "2023-06-22T10:26:55.251159Z"
    },
    "papermill": {
     "duration": 0.526908,
     "end_time": "2023-06-22T10:26:55.254589",
     "exception": false,
     "start_time": "2023-06-22T10:26:54.727681",
     "status": "completed"
    },
    "tags": []
   },
   "outputs": [
    {
     "data": {
      "image/png": "[encoded data removed]",
      "text/plain": [
       "<Figure size 800x600 with 1 Axes>"
      ]
     },
     "metadata": {},
     "output_type": "display_data"
    },
    {
     "name": "stdout",
     "output_type": "stream",
     "text": [
      "CPU times: user 605 ms, sys: 131 ms, total: 737 ms\n",
      "Wall time: 493 ms\n"
     ]
    }
   ],
   "source": [
    "%%time\n",
    "fig, ax = plt.subplots(figsize=(8,6))\n",
    "sns.countplot(gs_winners, y='Winner', orient='v', palette='bright')\n",
    "ax.set_xticks(range(26))\n",
    "plt.title('Grand Slam Tournament Wins (2000-2023)')\n",
    "plt.xlabel('Number of Wins')\n",
    "plt.grid(True)\n",
    "plt.show()"
   ]
  },
  {
   "cell_type": "markdown",
   "id": "b0a28234",
   "metadata": {
    "papermill": {
     "duration": 0.014137,
     "end_time": "2023-06-22T10:26:55.283934",
     "exception": false,
     "start_time": "2023-06-22T10:26:55.269797",
     "status": "completed"
    },
    "tags": []
   },
   "source": [
    "### <span style=\"color:darkgreen\">Thanks for your time! Hope you enjoyed it</span>"
   ]
  }
 ],
 "metadata": {
  "kernelspec": {
   "display_name": "Python 3",
   "language": "python",
   "name": "python3"
  },
  "language_info": {
   "codemirror_mode": {
    "name": "ipython",
    "version": 3
   },
   "file_extension": ".py",
   "mimetype": "text/x-python",
   "name": "python",
   "nbconvert_exporter": "python",
   "pygments_lexer": "ipython3",
   "version": "3.10.10"
  },
  "papermill": {
   "default_parameters": {},
   "duration": 18.423432,
   "end_time": "2023-06-22T10:26:56.322706",
   "environment_variables": {},
   "exception": null,
   "input_path": "__notebook__.ipynb",
   "output_path": "__notebook__.ipynb",
   "parameters": {},
   "start_time": "2023-06-22T10:26:37.899274",
   "version": "2.4.0"
  }
 },
 "nbformat": 4,
 "nbformat_minor": 5
}
